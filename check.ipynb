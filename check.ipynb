{
 "cells": [
  {
   "cell_type": "code",
   "execution_count": null,
   "metadata": {},
   "outputs": [],
   "source": [
    "# 检查目录下的mp4文件是否满足Howto-Interlink7M_subset_w_all_clips_train.txt中的要求\n",
    "txt_path=\"data/Howto-Interlink7M_subset_w_all_clips_train.txt\"\n",
    "mp4_path=\"videos/Howto-Interlink7M_subset_w_all_clips_train\""
   ]
  }
 ],
 "metadata": {
  "kernelspec": {
   "display_name": "base",
   "language": "python",
   "name": "python3"
  },
  "language_info": {
   "name": "python",
   "version": "3.8.18"
  }
 },
 "nbformat": 4,
 "nbformat_minor": 2
}
