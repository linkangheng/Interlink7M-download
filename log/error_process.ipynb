{
 "cells": [
  {
   "cell_type": "code",
   "execution_count": null,
   "metadata": {},
   "outputs": [],
   "source": [
    "# 在txt文件的每行前面加上一个前缀字符串\n",
    "txt_file=\"/data/hypertext/kangheng/howto100m/download/log/Howto-Interlink7M_subset_w_sampled_clips_val/error_list.txt\"\n",
    "output_file=\"/data/hypertext/kangheng/howto100m/download/log/Howto-Interlink7M_subset_w_sampled_clips_val/download_list.txt\"\n",
    "prefix=\"http://howto100m.inria.fr/dataset/{}\"\n",
    "with open(txt_file, 'r') as f:\n",
    "    lines = f.readlines()\n",
    "    lines = [prefix.format(line.strip()) for line in lines]\n",
    "with open(txt_file, 'w') as f:\n",
    "    f.writelines(lines)\n"
   ]
  }
 ],
 "metadata": {
  "language_info": {
   "name": "python"
  }
 },
 "nbformat": 4,
 "nbformat_minor": 2
}
