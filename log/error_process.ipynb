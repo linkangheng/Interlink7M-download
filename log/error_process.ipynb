{
 "cells": [
  {
   "cell_type": "code",
   "execution_count": 1,
   "metadata": {},
   "outputs": [],
   "source": [
    "# 在txt文件的每行前面加上一个前缀字符串\n",
    "input_file=\"/data/hypertext/kangheng/howto100m/download/log/Howto-Interlink7M_subset_w_sampled_clips_val/error_list.txt\"\n",
    "output_file=\"/data/hypertext/kangheng/howto100m/download/log/Howto-Interlink7M_subset_w_sampled_clips_val/download_list.txt\"\n",
    "prefix=\"http://howto100m.inria.fr/dataset/{}\"\n",
    "with open(input_file, 'r') as f:\n",
    "    lines = f.readlines()\n",
    "    # 加上回车符\n",
    "    lines = [prefix.format(line.strip()) + '\\n' for line in lines]\n",
    "with open(output_file, 'w') as f:\n",
    "    f.writelines(lines)\n"
   ]
  }
 ],
 "metadata": {
  "kernelspec": {
   "display_name": "base",
   "language": "python",
   "name": "python3"
  },
  "language_info": {
   "codemirror_mode": {
    "name": "ipython",
    "version": 3
   },
   "file_extension": ".py",
   "mimetype": "text/x-python",
   "name": "python",
   "nbconvert_exporter": "python",
   "pygments_lexer": "ipython3",
   "version": "3.8.18"
  }
 },
 "nbformat": 4,
 "nbformat_minor": 2
}
