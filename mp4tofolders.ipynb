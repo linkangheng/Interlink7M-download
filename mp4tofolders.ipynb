{
 "cells": [
  {
   "cell_type": "code",
   "execution_count": 1,
   "metadata": {},
   "outputs": [
    {
     "name": "stderr",
     "output_type": "stream",
     "text": [
      "  0%|          | 0/30746 [00:00<?, ?it/s]"
     ]
    },
    {
     "name": "stderr",
     "output_type": "stream",
     "text": [
      "100%|██████████| 30746/30746 [00:37<00:00, 825.81it/s]\n"
     ]
    }
   ],
   "source": [
    "# 将文件夹中所有的mp4文件都移到同名文件夹中\n",
    "import os\n",
    "import shutil\n",
    "from tqdm import tqdm\n",
    "path=\"/data/hypertext/kangheng/howto100m/download/videos/Howto-Interlink7M_subset_w_all_clips_val/\"\n",
    "for file in tqdm(os.listdir(path)):\n",
    "    if file.endswith(\".mp4\"):\n",
    "        # 判断是否存在同名文件夹\n",
    "        if not os.path.exists(os.path.join(path,file.split(\".\")[0])):\n",
    "            os.mkdir(os.path.join(path,file.split(\".\")[0]))\n",
    "        shutil.move(os.path.join(path,file),os.path.join(path,file.split(\".\")[0],file))"
   ]
  }
 ],
 "metadata": {
  "kernelspec": {
   "display_name": "base",
   "language": "python",
   "name": "python3"
  },
  "language_info": {
   "codemirror_mode": {
    "name": "ipython",
    "version": 3
   },
   "file_extension": ".py",
   "mimetype": "text/x-python",
   "name": "python",
   "nbconvert_exporter": "python",
   "pygments_lexer": "ipython3",
   "version": "3.8.18"
  }
 },
 "nbformat": 4,
 "nbformat_minor": 2
}
