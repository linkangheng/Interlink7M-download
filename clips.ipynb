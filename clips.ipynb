{
 "cells": [
  {
   "cell_type": "code",
   "execution_count": null,
   "metadata": {},
   "outputs": [
    {
     "name": "stderr",
     "output_type": "stream",
     "text": []
    }
   ],
   "source": [
    "import json\n",
    "import os\n",
    "from moviepy.editor import VideoFileClip\n",
    "import time\n",
    "# 视频文件目录前缀\n",
    "video_prefix = \"/data/hypertext/kangheng/howto100m/download/videos/Howto-Interlink7M_subset_w_all_clips_train/\"\n",
    "tsv_input=\"/data/hypertext/kangheng/howto100m/Interlink7M_tsv/Howto-Interlink7M_subset_w_all_clips_train.tsv\"\n",
    "\n",
    "# 当前日期时间\n",
    "current_time = time.strftime(\"%Y-%m-%d_%H-%M-%S\", time.localtime())\n",
    "# 错误日志文件路径\n",
    "error_log_path = \"log/current_time.txt\"\n",
    "\n",
    "# 时间字符串转换为秒\n",
    "def time_str_to_seconds(time_str):\n",
    "    h, m, s = map(int, time_str.split(':'))\n",
    "    return h * 3600 + m * 60 + s\n",
    "\n",
    "def log_error(message):\n",
    "    with open(error_log_path, 'a') as error_file:\n",
    "        error_file.write(message + '\\n')\n",
    "\n",
    "# 读取TSV文件\n",
    "with open(tsv_input, 'r') as file:\n",
    "    for line in file:\n",
    "        video_file, clips_data, _ = line.strip().split(\"\\t\")\n",
    "        video_file=video_file.split(\"/\")[-1]\n",
    "        if video_file==\"video\":\n",
    "            continue\n",
    "        clips_data=clips_data.replace('\"\"','\"')[1:-1]\n",
    "        clips_json = json.loads(clips_data)\n",
    "\n",
    "        # 完整视频路径\n",
    "        full_video_path = os.path.join(video_prefix, video_file[:-4], video_file)\n",
    "\n",
    "        # 如果视频文件不存在，记录到错误日志并跳过\n",
    "        if not os.path.exists(full_video_path):\n",
    "            error_message = f\"Video file not found: {full_video_path}\"\n",
    "            log_error(error_message)\n",
    "            continue\n",
    "\n",
    "        try:\n",
    "            # 加载视频文件，准备剪辑处理\n",
    "            video = VideoFileClip(full_video_path)\n",
    "            video_duration = video.duration\n",
    "\n",
    "            # 处理每个片段\n",
    "            for index, clip_info in enumerate(clips_json):\n",
    "                start_time, end_time = clip_info['clip'].split(' - ')\n",
    "                start_seconds = time_str_to_seconds(start_time)\n",
    "                end_seconds = time_str_to_seconds(end_time)\n",
    "\n",
    "                # 如果结束时间超出视频时长，则将其设为视频时长\n",
    "                if end_seconds > video_duration:\n",
    "                    end_seconds = video_duration\n",
    "\n",
    "                # 剪辑片段并保存为新文件\n",
    "                clip = video.subclip(start_seconds, end_seconds)\n",
    "                clip_filename = \"clip_\"+clip_info['clip_id']+\".mp4\"\n",
    "                clip_directory = os.path.join(video_prefix, video_file[:-4])  # 建议每个视频一个文件夹\n",
    "                target_path = os.path.join(clip_directory, clip_filename)\n",
    "                clip.write_videofile(target_path, codec=\"libx264\", audio_codec=\"aac\")\n",
    "\n",
    "            # 释放视频文件资源\n",
    "            video.close()\n",
    "\n",
    "        except Exception as e:\n",
    "            error_message = f\"Error processing file {video_file}: {e}\"\n",
    "            log_error(error_message)"
   ]
  }
 ],
 "metadata": {
  "kernelspec": {
   "display_name": "base",
   "language": "python",
   "name": "python3"
  },
  "language_info": {
   "codemirror_mode": {
    "name": "ipython",
    "version": 3
   },
   "file_extension": ".py",
   "mimetype": "text/x-python",
   "name": "python",
   "nbconvert_exporter": "python",
   "pygments_lexer": "ipython3",
   "version": "3.8.18"
  }
 },
 "nbformat": 4,
 "nbformat_minor": 2
}
